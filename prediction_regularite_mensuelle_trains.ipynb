{
 "cells": [
  {
   "cell_type": "markdown",
   "metadata": {},
   "source": [
    "# Regularité mensuelle des trains intercités : modèle de regression linéaire"
   ]
  },
  {
   "cell_type": "markdown",
   "metadata": {},
   "source": [
    "Ce notebook a pour objectif d'étudier la possibilité de prédire, à partir de données portant sur les trains intercités et une cinquantaine de gares en France Métropolitaine, le nombre de trains ayant minimum 5 minutes de retard à l'arrivée en terminus. Les données ont été récoltées à partir du site SNCF Open Data : https://ressources.data.sncf.com/explore/dataset/regularite-mensuelle-intercites/information/?sort=date"
   ]
  },
  {
   "cell_type": "markdown",
   "metadata": {},
   "source": [
    "## Importation des modules"
   ]
  },
  {
   "cell_type": "code",
   "execution_count": 1,
   "metadata": {},
   "outputs": [],
   "source": [
    "import pandas as pd\n",
    "import numpy as np\n",
    "from sklearn.model_selection import train_test_split\n",
    "from sklearn.linear_model import LinearRegression"
   ]
  },
  {
   "cell_type": "markdown",
   "metadata": {},
   "source": [
    "## Importation et traitement des données"
   ]
  },
  {
   "cell_type": "code",
   "execution_count": 2,
   "metadata": {},
   "outputs": [],
   "source": [
    "regularite = pd.read_csv(r'regularite-mensuelle-intercites.csv', sep = ';')"
   ]
  },
  {
   "cell_type": "markdown",
   "metadata": {},
   "source": [
    "séléction des colonnes nécessaires pour la construction du modèle"
   ]
  },
  {
   "cell_type": "code",
   "execution_count": 3,
   "metadata": {},
   "outputs": [],
   "source": [
    "regularite = regularite[['Date', 'Axe', 'Départ', 'Arrivée', 'Nombre de trains programmés',\n",
    "       \"Nombre de trains en retard à l'arrivée\"]]"
   ]
  },
  {
   "cell_type": "markdown",
   "metadata": {},
   "source": [
    "Suppression des données manquantes"
   ]
  },
  {
   "cell_type": "code",
   "execution_count": 4,
   "metadata": {},
   "outputs": [],
   "source": [
    "regularite.dropna(inplace = True)"
   ]
  },
  {
   "cell_type": "markdown",
   "metadata": {},
   "source": [
    "Aperçu des données"
   ]
  },
  {
   "cell_type": "code",
   "execution_count": 5,
   "metadata": {},
   "outputs": [
    {
     "data": {
      "text/html": [
       "<div>\n",
       "<style scoped>\n",
       "    .dataframe tbody tr th:only-of-type {\n",
       "        vertical-align: middle;\n",
       "    }\n",
       "\n",
       "    .dataframe tbody tr th {\n",
       "        vertical-align: top;\n",
       "    }\n",
       "\n",
       "    .dataframe thead th {\n",
       "        text-align: right;\n",
       "    }\n",
       "</style>\n",
       "<table border=\"1\" class=\"dataframe\">\n",
       "  <thead>\n",
       "    <tr style=\"text-align: right;\">\n",
       "      <th></th>\n",
       "      <th>Date</th>\n",
       "      <th>Axe</th>\n",
       "      <th>Départ</th>\n",
       "      <th>Arrivée</th>\n",
       "      <th>Nombre de trains programmés</th>\n",
       "      <th>Nombre de trains en retard à l'arrivée</th>\n",
       "    </tr>\n",
       "  </thead>\n",
       "  <tbody>\n",
       "    <tr>\n",
       "      <td>0</td>\n",
       "      <td>2014-01</td>\n",
       "      <td>Nord-Normandie</td>\n",
       "      <td>PARIS-ST-LAZARE</td>\n",
       "      <td>CHERBOURG</td>\n",
       "      <td>173.0</td>\n",
       "      <td>14.0</td>\n",
       "    </tr>\n",
       "    <tr>\n",
       "      <td>1</td>\n",
       "      <td>2014-01</td>\n",
       "      <td>Nord-Normandie</td>\n",
       "      <td>LE-HAVRE</td>\n",
       "      <td>PARIS-ST-LAZARE</td>\n",
       "      <td>364.0</td>\n",
       "      <td>33.0</td>\n",
       "    </tr>\n",
       "    <tr>\n",
       "      <td>2</td>\n",
       "      <td>2014-01</td>\n",
       "      <td>Nord-Normandie</td>\n",
       "      <td>MAUBEUGE</td>\n",
       "      <td>PARIS-NORD</td>\n",
       "      <td>306.0</td>\n",
       "      <td>18.0</td>\n",
       "    </tr>\n",
       "    <tr>\n",
       "      <td>3</td>\n",
       "      <td>2014-01</td>\n",
       "      <td>Nord-Normandie</td>\n",
       "      <td>CAEN</td>\n",
       "      <td>PARIS-ST-LAZARE</td>\n",
       "      <td>193.0</td>\n",
       "      <td>20.0</td>\n",
       "    </tr>\n",
       "    <tr>\n",
       "      <td>4</td>\n",
       "      <td>2014-01</td>\n",
       "      <td>Centre Sud-Ouest</td>\n",
       "      <td>ORLÉANS</td>\n",
       "      <td>PARIS-AUSTERLITZ</td>\n",
       "      <td>355.0</td>\n",
       "      <td>40.0</td>\n",
       "    </tr>\n",
       "    <tr>\n",
       "      <td>...</td>\n",
       "      <td>...</td>\n",
       "      <td>...</td>\n",
       "      <td>...</td>\n",
       "      <td>...</td>\n",
       "      <td>...</td>\n",
       "      <td>...</td>\n",
       "    </tr>\n",
       "    <tr>\n",
       "      <td>3800</td>\n",
       "      <td>2020-07</td>\n",
       "      <td>Méditerranée Atlantique</td>\n",
       "      <td>TOULOUSE-MATABIAU</td>\n",
       "      <td>HENDAYE</td>\n",
       "      <td>123.0</td>\n",
       "      <td>23.0</td>\n",
       "    </tr>\n",
       "    <tr>\n",
       "      <td>3801</td>\n",
       "      <td>2020-07</td>\n",
       "      <td>Paris Sud</td>\n",
       "      <td>CAHORS/BRIVE</td>\n",
       "      <td>PARIS-AUSTERLITZ</td>\n",
       "      <td>174.0</td>\n",
       "      <td>16.0</td>\n",
       "    </tr>\n",
       "    <tr>\n",
       "      <td>3802</td>\n",
       "      <td>2020-07</td>\n",
       "      <td>Paris Sud</td>\n",
       "      <td>CERBERE/TOULOUSE</td>\n",
       "      <td>PARIS-AUSTERLITZ</td>\n",
       "      <td>21.0</td>\n",
       "      <td>1.0</td>\n",
       "    </tr>\n",
       "    <tr>\n",
       "      <td>3803</td>\n",
       "      <td>2020-07</td>\n",
       "      <td>Paris Sud</td>\n",
       "      <td>PARIS-AUSTERLITZ</td>\n",
       "      <td>RODEZ/ALBI</td>\n",
       "      <td>10.0</td>\n",
       "      <td>2.0</td>\n",
       "    </tr>\n",
       "    <tr>\n",
       "      <td>3804</td>\n",
       "      <td>2020-07</td>\n",
       "      <td>Paris Sud</td>\n",
       "      <td>ALBI/RODEZ</td>\n",
       "      <td>PARIS-AUSTERLITZ</td>\n",
       "      <td>10.0</td>\n",
       "      <td>1.0</td>\n",
       "    </tr>\n",
       "  </tbody>\n",
       "</table>\n",
       "<p>3800 rows × 6 columns</p>\n",
       "</div>"
      ],
      "text/plain": [
       "         Date                      Axe             Départ           Arrivée  \\\n",
       "0     2014-01           Nord-Normandie    PARIS-ST-LAZARE         CHERBOURG   \n",
       "1     2014-01           Nord-Normandie           LE-HAVRE   PARIS-ST-LAZARE   \n",
       "2     2014-01           Nord-Normandie           MAUBEUGE        PARIS-NORD   \n",
       "3     2014-01           Nord-Normandie               CAEN   PARIS-ST-LAZARE   \n",
       "4     2014-01         Centre Sud-Ouest            ORLÉANS  PARIS-AUSTERLITZ   \n",
       "...       ...                      ...                ...               ...   \n",
       "3800  2020-07  Méditerranée Atlantique  TOULOUSE-MATABIAU           HENDAYE   \n",
       "3801  2020-07                Paris Sud       CAHORS/BRIVE  PARIS-AUSTERLITZ   \n",
       "3802  2020-07                Paris Sud   CERBERE/TOULOUSE  PARIS-AUSTERLITZ   \n",
       "3803  2020-07                Paris Sud   PARIS-AUSTERLITZ        RODEZ/ALBI   \n",
       "3804  2020-07                Paris Sud         ALBI/RODEZ  PARIS-AUSTERLITZ   \n",
       "\n",
       "      Nombre de trains programmés  Nombre de trains en retard à l'arrivée  \n",
       "0                           173.0                                    14.0  \n",
       "1                           364.0                                    33.0  \n",
       "2                           306.0                                    18.0  \n",
       "3                           193.0                                    20.0  \n",
       "4                           355.0                                    40.0  \n",
       "...                           ...                                     ...  \n",
       "3800                        123.0                                    23.0  \n",
       "3801                        174.0                                    16.0  \n",
       "3802                         21.0                                     1.0  \n",
       "3803                         10.0                                     2.0  \n",
       "3804                         10.0                                     1.0  \n",
       "\n",
       "[3800 rows x 6 columns]"
      ]
     },
     "execution_count": 5,
     "metadata": {},
     "output_type": "execute_result"
    }
   ],
   "source": [
    "regularite"
   ]
  },
  {
   "cell_type": "markdown",
   "metadata": {},
   "source": [
    "Création d'une colonne 'saison' à partir de la colonne 'Date'"
   ]
  },
  {
   "cell_type": "code",
   "execution_count": 6,
   "metadata": {},
   "outputs": [],
   "source": [
    "saisons = {'01' : 'hiver', '02' : 'hiver', '03' : 'hiver',\n",
    "           '04' : 'printemps', '05' : 'printemps', '06' : 'printemps',\n",
    "           '07' : 'été', '08' : 'été', '09' : 'été',\n",
    "           '10' : 'automne', '11' : 'automne', '12' : 'automne'}\n",
    "\n",
    "regularite['Date'] = regularite['Date'].apply(lambda x : x.split('-')[1])\n",
    "regularite['Saison'] = regularite['Date'].apply(lambda x : saisons[x])\n",
    "regularite.drop(columns = 'Date', inplace = True)"
   ]
  },
  {
   "cell_type": "code",
   "execution_count": 7,
   "metadata": {},
   "outputs": [
    {
     "data": {
      "text/html": [
       "<div>\n",
       "<style scoped>\n",
       "    .dataframe tbody tr th:only-of-type {\n",
       "        vertical-align: middle;\n",
       "    }\n",
       "\n",
       "    .dataframe tbody tr th {\n",
       "        vertical-align: top;\n",
       "    }\n",
       "\n",
       "    .dataframe thead th {\n",
       "        text-align: right;\n",
       "    }\n",
       "</style>\n",
       "<table border=\"1\" class=\"dataframe\">\n",
       "  <thead>\n",
       "    <tr style=\"text-align: right;\">\n",
       "      <th></th>\n",
       "      <th>Saison</th>\n",
       "      <th>Axe</th>\n",
       "      <th>Départ</th>\n",
       "      <th>Arrivée</th>\n",
       "      <th>Nombre de trains programmés</th>\n",
       "      <th>Nombre de trains en retard à l'arrivée</th>\n",
       "    </tr>\n",
       "  </thead>\n",
       "  <tbody>\n",
       "    <tr>\n",
       "      <td>0</td>\n",
       "      <td>hiver</td>\n",
       "      <td>Nord-Normandie</td>\n",
       "      <td>PARIS-ST-LAZARE</td>\n",
       "      <td>CHERBOURG</td>\n",
       "      <td>173.0</td>\n",
       "      <td>14.0</td>\n",
       "    </tr>\n",
       "    <tr>\n",
       "      <td>1</td>\n",
       "      <td>hiver</td>\n",
       "      <td>Nord-Normandie</td>\n",
       "      <td>LE-HAVRE</td>\n",
       "      <td>PARIS-ST-LAZARE</td>\n",
       "      <td>364.0</td>\n",
       "      <td>33.0</td>\n",
       "    </tr>\n",
       "    <tr>\n",
       "      <td>2</td>\n",
       "      <td>hiver</td>\n",
       "      <td>Nord-Normandie</td>\n",
       "      <td>MAUBEUGE</td>\n",
       "      <td>PARIS-NORD</td>\n",
       "      <td>306.0</td>\n",
       "      <td>18.0</td>\n",
       "    </tr>\n",
       "    <tr>\n",
       "      <td>3</td>\n",
       "      <td>hiver</td>\n",
       "      <td>Nord-Normandie</td>\n",
       "      <td>CAEN</td>\n",
       "      <td>PARIS-ST-LAZARE</td>\n",
       "      <td>193.0</td>\n",
       "      <td>20.0</td>\n",
       "    </tr>\n",
       "    <tr>\n",
       "      <td>4</td>\n",
       "      <td>hiver</td>\n",
       "      <td>Centre Sud-Ouest</td>\n",
       "      <td>ORLÉANS</td>\n",
       "      <td>PARIS-AUSTERLITZ</td>\n",
       "      <td>355.0</td>\n",
       "      <td>40.0</td>\n",
       "    </tr>\n",
       "    <tr>\n",
       "      <td>...</td>\n",
       "      <td>...</td>\n",
       "      <td>...</td>\n",
       "      <td>...</td>\n",
       "      <td>...</td>\n",
       "      <td>...</td>\n",
       "      <td>...</td>\n",
       "    </tr>\n",
       "    <tr>\n",
       "      <td>3800</td>\n",
       "      <td>été</td>\n",
       "      <td>Méditerranée Atlantique</td>\n",
       "      <td>TOULOUSE-MATABIAU</td>\n",
       "      <td>HENDAYE</td>\n",
       "      <td>123.0</td>\n",
       "      <td>23.0</td>\n",
       "    </tr>\n",
       "    <tr>\n",
       "      <td>3801</td>\n",
       "      <td>été</td>\n",
       "      <td>Paris Sud</td>\n",
       "      <td>CAHORS/BRIVE</td>\n",
       "      <td>PARIS-AUSTERLITZ</td>\n",
       "      <td>174.0</td>\n",
       "      <td>16.0</td>\n",
       "    </tr>\n",
       "    <tr>\n",
       "      <td>3802</td>\n",
       "      <td>été</td>\n",
       "      <td>Paris Sud</td>\n",
       "      <td>CERBERE/TOULOUSE</td>\n",
       "      <td>PARIS-AUSTERLITZ</td>\n",
       "      <td>21.0</td>\n",
       "      <td>1.0</td>\n",
       "    </tr>\n",
       "    <tr>\n",
       "      <td>3803</td>\n",
       "      <td>été</td>\n",
       "      <td>Paris Sud</td>\n",
       "      <td>PARIS-AUSTERLITZ</td>\n",
       "      <td>RODEZ/ALBI</td>\n",
       "      <td>10.0</td>\n",
       "      <td>2.0</td>\n",
       "    </tr>\n",
       "    <tr>\n",
       "      <td>3804</td>\n",
       "      <td>été</td>\n",
       "      <td>Paris Sud</td>\n",
       "      <td>ALBI/RODEZ</td>\n",
       "      <td>PARIS-AUSTERLITZ</td>\n",
       "      <td>10.0</td>\n",
       "      <td>1.0</td>\n",
       "    </tr>\n",
       "  </tbody>\n",
       "</table>\n",
       "<p>3800 rows × 6 columns</p>\n",
       "</div>"
      ],
      "text/plain": [
       "     Saison                      Axe             Départ           Arrivée  \\\n",
       "0     hiver           Nord-Normandie    PARIS-ST-LAZARE         CHERBOURG   \n",
       "1     hiver           Nord-Normandie           LE-HAVRE   PARIS-ST-LAZARE   \n",
       "2     hiver           Nord-Normandie           MAUBEUGE        PARIS-NORD   \n",
       "3     hiver           Nord-Normandie               CAEN   PARIS-ST-LAZARE   \n",
       "4     hiver         Centre Sud-Ouest            ORLÉANS  PARIS-AUSTERLITZ   \n",
       "...     ...                      ...                ...               ...   \n",
       "3800    été  Méditerranée Atlantique  TOULOUSE-MATABIAU           HENDAYE   \n",
       "3801    été                Paris Sud       CAHORS/BRIVE  PARIS-AUSTERLITZ   \n",
       "3802    été                Paris Sud   CERBERE/TOULOUSE  PARIS-AUSTERLITZ   \n",
       "3803    été                Paris Sud   PARIS-AUSTERLITZ        RODEZ/ALBI   \n",
       "3804    été                Paris Sud         ALBI/RODEZ  PARIS-AUSTERLITZ   \n",
       "\n",
       "      Nombre de trains programmés  Nombre de trains en retard à l'arrivée  \n",
       "0                           173.0                                    14.0  \n",
       "1                           364.0                                    33.0  \n",
       "2                           306.0                                    18.0  \n",
       "3                           193.0                                    20.0  \n",
       "4                           355.0                                    40.0  \n",
       "...                           ...                                     ...  \n",
       "3800                        123.0                                    23.0  \n",
       "3801                        174.0                                    16.0  \n",
       "3802                         21.0                                     1.0  \n",
       "3803                         10.0                                     2.0  \n",
       "3804                         10.0                                     1.0  \n",
       "\n",
       "[3800 rows x 6 columns]"
      ]
     },
     "execution_count": 7,
     "metadata": {},
     "output_type": "execute_result"
    }
   ],
   "source": [
    "regularite[['Saison', 'Axe', 'Départ', 'Arrivée', 'Nombre de trains programmés', \"Nombre de trains en retard à l'arrivée\"]]"
   ]
  },
  {
   "cell_type": "markdown",
   "metadata": {},
   "source": [
    "## Encodage des données catégoriques"
   ]
  },
  {
   "cell_type": "markdown",
   "metadata": {},
   "source": [
    "fonction encodant une colonne puis la transformant en matrice"
   ]
  },
  {
   "cell_type": "code",
   "execution_count": 8,
   "metadata": {},
   "outputs": [],
   "source": [
    "def transform_categorical_column(df, column):\n",
    "    df_col = df[[column]]\n",
    "    df_col = pd.get_dummies(df_col)\n",
    "    X = np.array(df_col)\n",
    "    return(X)"
   ]
  },
  {
   "cell_type": "markdown",
   "metadata": {},
   "source": [
    "Application pour chaque colonne, puis concaténation des matrices pour former l'ensemble des variables prédictives"
   ]
  },
  {
   "cell_type": "code",
   "execution_count": 9,
   "metadata": {},
   "outputs": [
    {
     "name": "stdout",
     "output_type": "stream",
     "text": [
      "[[  0.   1.   0. ...   0.   0. 173.]\n",
      " [  0.   1.   0. ...   0.   0. 364.]\n",
      " [  0.   1.   0. ...   0.   0. 306.]\n",
      " ...\n",
      " [  0.   0.   0. ...   0.   0.  21.]\n",
      " [  0.   0.   0. ...   0.   0.  10.]\n",
      " [  0.   0.   0. ...   0.   0.  10.]]\n"
     ]
    }
   ],
   "source": [
    "X_saison = transform_categorical_column(regularite, 'Saison')\n",
    "X_axe = transform_categorical_column(regularite, 'Axe')\n",
    "X_depart = transform_categorical_column(regularite, 'Départ')\n",
    "X_arrivee = transform_categorical_column(regularite, 'Arrivée')\n",
    "X_prog = np.array(regularite[['Nombre de trains programmés']])\n",
    "\n",
    "X = np.concatenate((X_saison, X_axe, X_depart, X_arrivee, X_prog), axis = 1)\n",
    "\n",
    "print(X)"
   ]
  },
  {
   "cell_type": "markdown",
   "metadata": {},
   "source": [
    "Variables à prédire, correspondant à la colonne \"Nombre de trains en retard à l'arrivée\""
   ]
  },
  {
   "cell_type": "code",
   "execution_count": 10,
   "metadata": {},
   "outputs": [
    {
     "name": "stdout",
     "output_type": "stream",
     "text": [
      "[[14.]\n",
      " [33.]\n",
      " [18.]\n",
      " ...\n",
      " [ 1.]\n",
      " [ 2.]\n",
      " [ 1.]]\n"
     ]
    }
   ],
   "source": [
    "y = np.array(regularite[[\"Nombre de trains en retard à l'arrivée\"]])\n",
    "print(y)"
   ]
  },
  {
   "cell_type": "markdown",
   "metadata": {},
   "source": [
    "Création des échantillons de test et d'apprentissage"
   ]
  },
  {
   "cell_type": "code",
   "execution_count": 11,
   "metadata": {},
   "outputs": [
    {
     "name": "stdout",
     "output_type": "stream",
     "text": [
      "taille de l'echantillon d'apprentissage :  3040\n",
      "taille de l'echantillon de test :  760\n"
     ]
    }
   ],
   "source": [
    "X_train, X_test, y_train, y_test = train_test_split(X, y, test_size = 0.2, random_state = 0)\n",
    "print(\"taille de l'echantillon d'apprentissage : \", len(X_train))\n",
    "print(\"taille de l'echantillon de test : \", len(X_test))"
   ]
  },
  {
   "cell_type": "markdown",
   "metadata": {},
   "source": [
    "Application du modèle de regression linéaire multiple"
   ]
  },
  {
   "cell_type": "code",
   "execution_count": 12,
   "metadata": {},
   "outputs": [
    {
     "data": {
      "text/plain": [
       "LinearRegression(copy_X=True, fit_intercept=True, n_jobs=None, normalize=False)"
      ]
     },
     "execution_count": 12,
     "metadata": {},
     "output_type": "execute_result"
    }
   ],
   "source": [
    "regressor = LinearRegression()\n",
    "regressor.fit(X_train, y_train)"
   ]
  },
  {
   "cell_type": "code",
   "execution_count": 13,
   "metadata": {},
   "outputs": [],
   "source": [
    "y_pred = regressor.predict(X_test)"
   ]
  },
  {
   "cell_type": "markdown",
   "metadata": {},
   "source": [
    "Comparatif valeurs prédites vs valeurs réelles"
   ]
  },
  {
   "cell_type": "code",
   "execution_count": 14,
   "metadata": {},
   "outputs": [
    {
     "data": {
      "text/html": [
       "<div>\n",
       "<style scoped>\n",
       "    .dataframe tbody tr th:only-of-type {\n",
       "        vertical-align: middle;\n",
       "    }\n",
       "\n",
       "    .dataframe tbody tr th {\n",
       "        vertical-align: top;\n",
       "    }\n",
       "\n",
       "    .dataframe thead th {\n",
       "        text-align: right;\n",
       "    }\n",
       "</style>\n",
       "<table border=\"1\" class=\"dataframe\">\n",
       "  <thead>\n",
       "    <tr style=\"text-align: right;\">\n",
       "      <th></th>\n",
       "      <th>y_pred</th>\n",
       "      <th>y_test</th>\n",
       "    </tr>\n",
       "  </thead>\n",
       "  <tbody>\n",
       "    <tr>\n",
       "      <td>0</td>\n",
       "      <td>11.358902</td>\n",
       "      <td>6.0</td>\n",
       "    </tr>\n",
       "    <tr>\n",
       "      <td>1</td>\n",
       "      <td>8.805450</td>\n",
       "      <td>8.0</td>\n",
       "    </tr>\n",
       "    <tr>\n",
       "      <td>2</td>\n",
       "      <td>32.502525</td>\n",
       "      <td>19.0</td>\n",
       "    </tr>\n",
       "    <tr>\n",
       "      <td>3</td>\n",
       "      <td>15.813911</td>\n",
       "      <td>18.0</td>\n",
       "    </tr>\n",
       "    <tr>\n",
       "      <td>4</td>\n",
       "      <td>1.887703</td>\n",
       "      <td>1.0</td>\n",
       "    </tr>\n",
       "    <tr>\n",
       "      <td>...</td>\n",
       "      <td>...</td>\n",
       "      <td>...</td>\n",
       "    </tr>\n",
       "    <tr>\n",
       "      <td>755</td>\n",
       "      <td>27.811409</td>\n",
       "      <td>33.0</td>\n",
       "    </tr>\n",
       "    <tr>\n",
       "      <td>756</td>\n",
       "      <td>29.717987</td>\n",
       "      <td>32.0</td>\n",
       "    </tr>\n",
       "    <tr>\n",
       "      <td>757</td>\n",
       "      <td>11.875237</td>\n",
       "      <td>18.0</td>\n",
       "    </tr>\n",
       "    <tr>\n",
       "      <td>758</td>\n",
       "      <td>24.294441</td>\n",
       "      <td>38.0</td>\n",
       "    </tr>\n",
       "    <tr>\n",
       "      <td>759</td>\n",
       "      <td>13.724228</td>\n",
       "      <td>12.0</td>\n",
       "    </tr>\n",
       "  </tbody>\n",
       "</table>\n",
       "<p>760 rows × 2 columns</p>\n",
       "</div>"
      ],
      "text/plain": [
       "        y_pred  y_test\n",
       "0    11.358902     6.0\n",
       "1     8.805450     8.0\n",
       "2    32.502525    19.0\n",
       "3    15.813911    18.0\n",
       "4     1.887703     1.0\n",
       "..         ...     ...\n",
       "755  27.811409    33.0\n",
       "756  29.717987    32.0\n",
       "757  11.875237    18.0\n",
       "758  24.294441    38.0\n",
       "759  13.724228    12.0\n",
       "\n",
       "[760 rows x 2 columns]"
      ]
     },
     "execution_count": 14,
     "metadata": {},
     "output_type": "execute_result"
    }
   ],
   "source": [
    "np.set_printoptions(precision=2)\n",
    "pd.DataFrame(np.concatenate((y_pred.reshape(len(y_pred),1), y_test.reshape(len(y_test),1)),1)).rename(columns = {0 : 'y_pred', 1 : 'y_test'})"
   ]
  },
  {
   "cell_type": "markdown",
   "metadata": {},
   "source": [
    "Score du modèle"
   ]
  },
  {
   "cell_type": "code",
   "execution_count": 15,
   "metadata": {},
   "outputs": [
    {
     "data": {
      "text/plain": [
       "0.7070199949958398"
      ]
     },
     "execution_count": 15,
     "metadata": {},
     "output_type": "execute_result"
    }
   ],
   "source": [
    "regressor.score(X, y)"
   ]
  },
  {
   "cell_type": "markdown",
   "metadata": {},
   "source": [
    "Ainsi, on obtient un score de précision de 0.71 environ."
   ]
  },
  {
   "cell_type": "markdown",
   "metadata": {},
   "source": [
    "## Pistes pour améliorer la prédiction"
   ]
  },
  {
   "cell_type": "markdown",
   "metadata": {},
   "source": [
    "* Coupler ces données avec d'autres données pouvant avoir une incidence sur le retard des trains, telles que  les périodes de grève\n",
    "* appliquer d'autres modèles tels que les arbres de décision ou Random Forest"
   ]
  }
 ],
 "metadata": {
  "kernelspec": {
   "display_name": "Python 3",
   "language": "python",
   "name": "python3"
  },
  "language_info": {
   "codemirror_mode": {
    "name": "ipython",
    "version": 3
   },
   "file_extension": ".py",
   "mimetype": "text/x-python",
   "name": "python",
   "nbconvert_exporter": "python",
   "pygments_lexer": "ipython3",
   "version": "3.7.4"
  }
 },
 "nbformat": 4,
 "nbformat_minor": 2
}
